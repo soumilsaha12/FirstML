{
  "nbformat": 4,
  "nbformat_minor": 0,
  "metadata": {
    "colab": {
      "provenance": [],
      "authorship_tag": "ABX9TyO8rqgPcE29X2z33Y3Z1YYp",
      "include_colab_link": true
    },
    "kernelspec": {
      "name": "python3",
      "display_name": "Python 3"
    },
    "language_info": {
      "name": "python"
    }
  },
  "cells": [
    {
      "cell_type": "markdown",
      "metadata": {
        "id": "view-in-github",
        "colab_type": "text"
      },
      "source": [
        "<a href=\"https://colab.research.google.com/github/soumilsaha12/FirstML/blob/main/Word_Processing.ipynb\" target=\"_parent\"><img src=\"https://colab.research.google.com/assets/colab-badge.svg\" alt=\"Open In Colab\"/></a>"
      ]
    },
    {
      "cell_type": "code",
      "execution_count": 1,
      "metadata": {
        "colab": {
          "base_uri": "https://localhost:8080/"
        },
        "id": "Bl1tnnqvj741",
        "outputId": "3377a7dc-40b5-4b94-be06-26db9f017740"
      },
      "outputs": [
        {
          "output_type": "stream",
          "name": "stderr",
          "text": [
            "[nltk_data] Downloading package punkt to /root/nltk_data...\n",
            "[nltk_data]   Unzipping tokenizers/punkt.zip.\n"
          ]
        },
        {
          "output_type": "stream",
          "name": "stdout",
          "text": [
            "\n",
            "Sentence tokenizer:\n",
            "['Hey How you doing']\n"
          ]
        }
      ],
      "source": [
        "import nltk\n",
        "nltk.download('punkt')\n",
        "\n",
        "from nltk.tokenize import sent_tokenize\n",
        "text = \"Hey How you doing\"\n",
        "sent_tokenize_list = sent_tokenize(text)\n",
        "print(\"\\nSentence tokenizer:\")\n",
        "print(sent_tokenize_list)"
      ]
    },
    {
      "cell_type": "code",
      "source": [
        "from nltk.tokenize import word_tokenize\n",
        "print (\"\\nWord tokenizer:\")\n",
        "print (word_tokenize(text))\n",
        "\n",
        "from nltk.tokenize import WordPunctTokenizer\n",
        "WordPunctTokenizer().tokenize(text)\n",
        "print (\"\\nPunkt word tokenizer:\")\n",
        "print (WordPunctTokenizer().tokenize(text))\n",
        "\n",
        "from nltk.tokenize import WordPunctTokenizer\n",
        "word_punct_tokenizer = WordPunctTokenizer()\n",
        "print (\"\\nWord punct tokenizer:\")\n",
        "print (word_punct_tokenizer.tokenize(text))"
      ],
      "metadata": {
        "colab": {
          "base_uri": "https://localhost:8080/"
        },
        "id": "vJrvZ-Y0lfLm",
        "outputId": "877fb2f7-89dd-42ff-8a0c-ffb74ad058ea"
      },
      "execution_count": 2,
      "outputs": [
        {
          "output_type": "stream",
          "name": "stdout",
          "text": [
            "\n",
            "Word tokenizer:\n",
            "['Hey', 'How', 'you', 'doing']\n",
            "\n",
            "Punkt word tokenizer:\n",
            "['Hey', 'How', 'you', 'doing']\n",
            "\n",
            "Word punct tokenizer:\n",
            "['Hey', 'How', 'you', 'doing']\n"
          ]
        }
      ]
    },
    {
      "cell_type": "code",
      "source": [
        "from nltk.stem.porter import PorterStemmer\n",
        "from nltk.stem.lancaster import LancasterStemmer\n",
        "from nltk.stem.snowball import SnowballStemmer\n",
        "\n",
        "words = ['table', 'probably', 'wolves', 'playing', 'is', 'dog', 'the', 'beaches', 'grounded', 'dreamt', 'generalization']\n",
        "\n",
        "# Compare different stemmers\n",
        "stemmers = ['PORTER', 'LANCASTER', 'SNOWBALL']\n",
        "\n",
        "stemmer_porter = PorterStemmer()\n",
        "stemmer_lancaster = LancasterStemmer()\n",
        "stemmer_snowball = SnowballStemmer('english')\n",
        "\n",
        "formatted_row = '{:>16}' * (len(stemmers) + 1)\n",
        "print('\\n', formatted_row.format('WORD', *stemmers), '\\n')\n",
        "\n",
        "for word in words:\n",
        "    stemmed_words = [stemmer_porter.stem(word),\n",
        "    stemmer_lancaster.stem(word),\n",
        "    stemmer_snowball.stem(word)]\n",
        "    print(formatted_row.format(word, *stemmed_words))"
      ],
      "metadata": {
        "colab": {
          "base_uri": "https://localhost:8080/"
        },
        "id": "2LX9kaIKmtgX",
        "outputId": "e54d4582-2b8f-486b-fcce-08c795fd8c61"
      },
      "execution_count": 4,
      "outputs": [
        {
          "output_type": "stream",
          "name": "stdout",
          "text": [
            "\n",
            "             WORD          PORTER       LANCASTER        SNOWBALL \n",
            "\n",
            "           table            tabl            tabl            tabl\n",
            "        probably         probabl            prob         probabl\n",
            "          wolves            wolv            wolv            wolv\n",
            "         playing            play            play            play\n",
            "              is              is              is              is\n",
            "             dog             dog             dog             dog\n",
            "             the             the             the             the\n",
            "         beaches           beach           beach           beach\n",
            "        grounded          ground          ground          ground\n",
            "          dreamt          dreamt          dreamt          dreamt\n",
            "  generalization           gener             gen         general\n"
          ]
        }
      ]
    },
    {
      "cell_type": "code",
      "source": [
        "import nltk\n",
        "nltk.download('wordnet')\n",
        "from nltk.stem import WordNetLemmatizer\n",
        "words = ['table', 'probably', 'wolves', 'playing', 'is', 'dog', 'the', 'beaches', 'grounded', 'dreamt', 'envision']\n",
        "\n",
        "# Compare different lemmatizers\n",
        "lemmatizers = ['NOUN LEMMATIZER', 'VERB LEMMATIZER']\n",
        "lemmatizer_wordnet = WordNetLemmatizer()\n",
        "formatted_row = '{:>24}' * (len(lemmatizers) + 1)\n",
        "print('\\n', formatted_row.format('WORD', *lemmatizers), '\\n')\n",
        "for word in words:\n",
        "    lemmatized_words = [lemmatizer_wordnet.lemmatize(word,pos='n'), lemmatizer_wordnet.lemmatize(word, pos='v')]\n",
        "    print(formatted_row.format(word, *lemmatized_words))"
      ],
      "metadata": {
        "colab": {
          "base_uri": "https://localhost:8080/"
        },
        "id": "BreNDclsqCW9",
        "outputId": "624c18b0-ac42-4cd9-af93-5bcd3863bc4b"
      },
      "execution_count": 5,
      "outputs": [
        {
          "output_type": "stream",
          "name": "stderr",
          "text": [
            "[nltk_data] Downloading package wordnet to /root/nltk_data...\n"
          ]
        },
        {
          "output_type": "stream",
          "name": "stdout",
          "text": [
            "\n",
            "                     WORD         NOUN LEMMATIZER         VERB LEMMATIZER \n",
            "\n",
            "                   table                   table                   table\n",
            "                probably                probably                probably\n",
            "                  wolves                    wolf                  wolves\n",
            "                 playing                 playing                    play\n",
            "                      is                      is                      be\n",
            "                     dog                     dog                     dog\n",
            "                     the                     the                     the\n",
            "                 beaches                   beach                   beach\n",
            "                grounded                grounded                  ground\n",
            "                  dreamt                  dreamt                   dream\n",
            "                envision                envision                envision\n"
          ]
        }
      ]
    }
  ]
}